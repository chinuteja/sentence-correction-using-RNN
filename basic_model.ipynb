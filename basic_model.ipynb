{
 "cells": [
  {
   "cell_type": "code",
   "execution_count": 1,
   "metadata": {
    "colab": {
     "base_uri": "https://localhost:8080/"
    },
    "id": "d1Y-83n-Nmmy",
    "outputId": "691430fe-592c-4390-f45f-c93e22d25314"
   },
   "outputs": [
    {
     "name": "stdout",
     "output_type": "stream",
     "text": [
      "CPU times: user 1.52 s, sys: 281 ms, total: 1.8 s\n",
      "Wall time: 2.02 s\n"
     ]
    }
   ],
   "source": [
    "%%time\n",
    "import numpy as np\n",
    "import tensorflow as tf\n",
    "from tensorflow import keras\n",
    "import pandas as pd\n",
    "from sklearn.model_selection import train_test_split"
   ]
  },
  {
   "cell_type": "code",
   "execution_count": 2,
   "metadata": {
    "colab": {
     "base_uri": "https://localhost:8080/"
    },
    "id": "4Psmr7oeOO2d",
    "outputId": "b8d44aa7-c409-4d4b-c1c5-ff5e3a8fe7d8"
   },
   "outputs": [
    {
     "name": "stdout",
     "output_type": "stream",
     "text": [
      "CPU times: user 8.21 ms, sys: 4.84 ms, total: 13 ms\n",
      "Wall time: 410 ms\n"
     ]
    }
   ],
   "source": [
    "%%time\n",
    "data = pd.read_csv(\"/content/drive/MyDrive/case_study_2/extracted_data.csv\")\n",
    "data.head(3)"
   ]
  },
  {
   "cell_type": "code",
   "execution_count": 3,
   "metadata": {
    "colab": {
     "base_uri": "https://localhost:8080/",
     "height": 142
    },
    "id": "yseW1vx3RizV",
    "outputId": "1ba5fd44-b2e5-46e6-b785-43af44343848"
   },
   "outputs": [
    {
     "data": {
      "text/html": [
       "<div>\n",
       "<style scoped>\n",
       "    .dataframe tbody tr th:only-of-type {\n",
       "        vertical-align: middle;\n",
       "    }\n",
       "\n",
       "    .dataframe tbody tr th {\n",
       "        vertical-align: top;\n",
       "    }\n",
       "\n",
       "    .dataframe thead th {\n",
       "        text-align: right;\n",
       "    }\n",
       "</style>\n",
       "<table border=\"1\" class=\"dataframe\">\n",
       "  <thead>\n",
       "    <tr style=\"text-align: right;\">\n",
       "      <th></th>\n",
       "      <th>corupted_text</th>\n",
       "      <th>normal_text</th>\n",
       "    </tr>\n",
       "  </thead>\n",
       "  <tbody>\n",
       "    <tr>\n",
       "      <th>0</th>\n",
       "      <td>U wan me to \"chop\" seat 4 u nt?</td>\n",
       "      <td>Do you want me to reserve seat for you or not?</td>\n",
       "    </tr>\n",
       "    <tr>\n",
       "      <th>1</th>\n",
       "      <td>Yup. U reaching. We order some durian pastry a...</td>\n",
       "      <td>Yeap. You reaching? We ordered some Durian pas...</td>\n",
       "    </tr>\n",
       "    <tr>\n",
       "      <th>2</th>\n",
       "      <td>They become more ex oredi... Mine is like 25.....</td>\n",
       "      <td>They become more expensive already. Mine is li...</td>\n",
       "    </tr>\n",
       "  </tbody>\n",
       "</table>\n",
       "</div>"
      ],
      "text/plain": [
       "                                       corupted_text                                        normal_text\n",
       "0                    U wan me to \"chop\" seat 4 u nt?     Do you want me to reserve seat for you or not?\n",
       "1  Yup. U reaching. We order some durian pastry a...  Yeap. You reaching? We ordered some Durian pas...\n",
       "2  They become more ex oredi... Mine is like 25.....  They become more expensive already. Mine is li..."
      ]
     },
     "execution_count": 3,
     "metadata": {
      "tags": []
     },
     "output_type": "execute_result"
    }
   ],
   "source": [
    "data.drop([\"Unnamed: 0\"],axis=1,inplace=True)\n",
    "data.head(3)"
   ]
  },
  {
   "cell_type": "code",
   "execution_count": 4,
   "metadata": {
    "colab": {
     "base_uri": "https://localhost:8080/"
    },
    "id": "xGgusCe3STAX",
    "outputId": "b20b3cd2-5691-416a-d6cc-143005d41ba7"
   },
   "outputs": [
    {
     "name": "stdout",
     "output_type": "stream",
     "text": [
      "CPU times: user 3 µs, sys: 1 µs, total: 4 µs\n",
      "Wall time: 8.11 µs\n"
     ]
    }
   ],
   "source": [
    "%%time\n",
    "def get_length(line):\n",
    "  '''\n",
    "  here we calculate the length of each sentence both in corupted_text and normal_txt\n",
    "  '''\n",
    "  length = len(line)\n",
    "  return length"
   ]
  },
  {
   "cell_type": "code",
   "execution_count": 5,
   "metadata": {
    "colab": {
     "base_uri": "https://localhost:8080/"
    },
    "id": "Cd8ZTbOpSqAL",
    "outputId": "062adaa8-b778-483e-a2d8-41fd1acd6d1a"
   },
   "outputs": [
    {
     "name": "stdout",
     "output_type": "stream",
     "text": [
      "CPU times: user 4.42 ms, sys: 0 ns, total: 4.42 ms\n",
      "Wall time: 4.23 ms\n"
     ]
    }
   ],
   "source": [
    "%%time\n",
    "data[\"corrupted_length\"] = data[\"corupted_text\"].apply(get_length)\n",
    "data[\"normal_length\"] = data[\"normal_text\"].apply(get_length)"
   ]
  },
  {
   "cell_type": "code",
   "execution_count": 6,
   "metadata": {
    "colab": {
     "base_uri": "https://localhost:8080/"
    },
    "id": "lOhz6t26TVP_",
    "outputId": "26055523-47c9-480a-aa5b-dfe0e589079b"
   },
   "outputs": [
    {
     "name": "stdout",
     "output_type": "stream",
     "text": [
      "90 th percentile 125.0\n",
      "91 th percentile 129.0\n",
      "92 th percentile 134.0\n",
      "93 th percentile 138.0\n",
      "94 th percentile 142.0\n",
      "95 th percentile 147.0\n",
      "96 th percentile 151.0\n",
      "97 th percentile 154.0\n",
      "98 th percentile 157.0\n",
      "99 th percentile 159.0\n",
      "100 th percentile 221.0\n"
     ]
    }
   ],
   "source": [
    "corupted_length_array = list(data[\"corrupted_length\"].values)\n",
    "for i in range(90,101):\n",
    "  print(i,\"th percentile\",np.percentile(corupted_length_array,i))"
   ]
  },
  {
   "cell_type": "code",
   "execution_count": 7,
   "metadata": {
    "colab": {
     "base_uri": "https://localhost:8080/"
    },
    "id": "-jqw7yJhUPqU",
    "outputId": "22c42c16-1227-4edf-ba02-a2971e306708"
   },
   "outputs": [
    {
     "name": "stdout",
     "output_type": "stream",
     "text": [
      "90 th percentile 140.0\n",
      "91 th percentile 144.0\n",
      "92 th percentile 149.0\n",
      "93 th percentile 154.0\n",
      "94 th percentile 156.0\n",
      "95 th percentile 162.0\n",
      "96 th percentile 165.0\n",
      "97 th percentile 170.0\n",
      "98 th percentile 179.01999999999998\n",
      "99 th percentile 190.01\n",
      "100 th percentile 281.0\n"
     ]
    }
   ],
   "source": [
    "normal_length_array = list(data[\"normal_length\"].values)\n",
    "for i in range(90,101):\n",
    "  print(i,\"th percentile\",np.percentile(normal_length_array,i))"
   ]
  },
  {
   "cell_type": "code",
   "execution_count": 8,
   "metadata": {
    "colab": {
     "base_uri": "https://localhost:8080/"
    },
    "id": "_Xm5vSw0S7PN",
    "outputId": "7e191ec5-33fa-4261-95ed-6605b5b60525"
   },
   "outputs": [
    {
     "name": "stdout",
     "output_type": "stream",
     "text": [
      "(1993, 4)\n",
      "CPU times: user 7.11 ms, sys: 1.43 ms, total: 8.53 ms\n",
      "Wall time: 21.2 ms\n"
     ]
    }
   ],
   "source": [
    "%%time\n",
    "'''\n",
    "by seeing the 99th percentile of lengths we can cut-short the longer sentences and \n",
    "we will take the corrupted sentences whos length is below 170 and target sentence whose length is below 200\n",
    "'''\n",
    "data = data[data[\"corrupted_length\"]<171]\n",
    "data = data[data[\"normal_length\"] <201]\n",
    "print(data.shape)"
   ]
  },
  {
   "cell_type": "code",
   "execution_count": 9,
   "metadata": {
    "colab": {
     "base_uri": "https://localhost:8080/"
    },
    "id": "ykYS-xklVegG",
    "outputId": "86e9cfed-ddf3-443b-9b6b-ff37cad690ab"
   },
   "outputs": [
    {
     "name": "stdout",
     "output_type": "stream",
     "text": [
      "CPU times: user 3.5 ms, sys: 1.93 ms, total: 5.43 ms\n",
      "Wall time: 6.51 ms\n"
     ]
    }
   ],
   "source": [
    "%%time\n",
    "# adding \\t for start of sentence and \\n for end of sentence \n",
    "data[\"normal_text_input\"] = '\\t '+data['normal_text'].astype(str)\n",
    "data[\"normal_text_output\"] = data['normal_text'].astype(str)+' \\n'"
   ]
  },
  {
   "cell_type": "code",
   "execution_count": 10,
   "metadata": {
    "id": "shyDYr27XFjE"
   },
   "outputs": [],
   "source": [
    "# droping the unecessary columns\n",
    "data.drop([\"normal_text\",\"corrupted_length\",\"normal_length\"],axis=1,inplace=True)"
   ]
  },
  {
   "cell_type": "code",
   "execution_count": 11,
   "metadata": {
    "colab": {
     "base_uri": "https://localhost:8080/",
     "height": 173
    },
    "id": "8Wec4yzeXBD2",
    "outputId": "b2561f17-94e1-4ec6-a231-9712367e8fed"
   },
   "outputs": [
    {
     "data": {
      "text/html": [
       "<div>\n",
       "<style scoped>\n",
       "    .dataframe tbody tr th:only-of-type {\n",
       "        vertical-align: middle;\n",
       "    }\n",
       "\n",
       "    .dataframe tbody tr th {\n",
       "        vertical-align: top;\n",
       "    }\n",
       "\n",
       "    .dataframe thead th {\n",
       "        text-align: right;\n",
       "    }\n",
       "</style>\n",
       "<table border=\"1\" class=\"dataframe\">\n",
       "  <thead>\n",
       "    <tr style=\"text-align: right;\">\n",
       "      <th></th>\n",
       "      <th>corupted_text</th>\n",
       "      <th>normal_text_input</th>\n",
       "      <th>normal_text_output</th>\n",
       "    </tr>\n",
       "  </thead>\n",
       "  <tbody>\n",
       "    <tr>\n",
       "      <th>0</th>\n",
       "      <td>U wan me to \"chop\" seat 4 u nt?</td>\n",
       "      <td>\\t Do you want me to reserve seat for you or not?</td>\n",
       "      <td>Do you want me to reserve seat for you or not? \\n</td>\n",
       "    </tr>\n",
       "    <tr>\n",
       "      <th>1</th>\n",
       "      <td>Yup. U reaching. We order some durian pastry a...</td>\n",
       "      <td>\\t Yeap. You reaching? We ordered some Durian ...</td>\n",
       "      <td>Yeap. You reaching? We ordered some Durian pas...</td>\n",
       "    </tr>\n",
       "    <tr>\n",
       "      <th>2</th>\n",
       "      <td>They become more ex oredi... Mine is like 25.....</td>\n",
       "      <td>\\t They become more expensive already. Mine is...</td>\n",
       "      <td>They become more expensive already. Mine is li...</td>\n",
       "    </tr>\n",
       "    <tr>\n",
       "      <th>3</th>\n",
       "      <td>I'm thai. what do u do?</td>\n",
       "      <td>\\t I'm Thai. What do you do?</td>\n",
       "      <td>I'm Thai. What do you do? \\n</td>\n",
       "    </tr>\n",
       "  </tbody>\n",
       "</table>\n",
       "</div>"
      ],
      "text/plain": [
       "                                       corupted_text  ...                                 normal_text_output\n",
       "0                    U wan me to \"chop\" seat 4 u nt?  ...  Do you want me to reserve seat for you or not? \\n\n",
       "1  Yup. U reaching. We order some durian pastry a...  ...  Yeap. You reaching? We ordered some Durian pas...\n",
       "2  They become more ex oredi... Mine is like 25.....  ...  They become more expensive already. Mine is li...\n",
       "3                            I'm thai. what do u do?  ...                       I'm Thai. What do you do? \\n\n",
       "\n",
       "[4 rows x 3 columns]"
      ]
     },
     "execution_count": 11,
     "metadata": {
      "tags": []
     },
     "output_type": "execute_result"
    }
   ],
   "source": [
    "data.head(4)"
   ]
  },
  {
   "cell_type": "code",
   "execution_count": 12,
   "metadata": {
    "id": "PRxd07VTXTL6"
   },
   "outputs": [],
   "source": [
    "preprocessed_data = data.copy()\n",
    "preprocessed_data.iloc[0]['normal_text_input']=str(preprocessed_data.iloc[0]['normal_text_input'])+' \\n'\n",
    "preprocessed_data.iloc[0]['normal_text_output']=str(preprocessed_data.iloc[0]['normal_text_output'])+' \\n'"
   ]
  },
  {
   "cell_type": "code",
   "execution_count": 13,
   "metadata": {
    "id": "gz8eWACDXoft"
   },
   "outputs": [],
   "source": [
    "# spliting into train and test\n",
    "train_data,test_data= train_test_split(preprocessed_data,test_size=0.01, random_state=42)"
   ]
  },
  {
   "cell_type": "code",
   "execution_count": 14,
   "metadata": {
    "colab": {
     "base_uri": "https://localhost:8080/"
    },
    "id": "oFuLXiXyYQQD",
    "outputId": "8b32f907-f5f2-43ad-b951-3be0b0f2cbcf"
   },
   "outputs": [
    {
     "name": "stdout",
     "output_type": "stream",
     "text": [
      "(1973, 3) ===> (20, 3)\n"
     ]
    }
   ],
   "source": [
    "print(train_data.shape,\"===>\",test_data.shape)"
   ]
  },
  {
   "cell_type": "markdown",
   "metadata": {
    "id": "lhHBCymV4ZZ1"
   },
   "source": [
    "preparing data for model using train data"
   ]
  },
  {
   "cell_type": "code",
   "execution_count": 15,
   "metadata": {
    "colab": {
     "base_uri": "https://localhost:8080/"
    },
    "id": "siGFeQ8dYump",
    "outputId": "ca06e2f2-5a17-4aa7-e7de-423b3cb742dc"
   },
   "outputs": [
    {
     "name": "stdout",
     "output_type": "stream",
     "text": [
      "103 92\n",
      "CPU times: user 27.9 ms, sys: 872 µs, total: 28.7 ms\n",
      "Wall time: 30.9 ms\n"
     ]
    }
   ],
   "source": [
    "%%time\n",
    "# now we need to create vocabulary\n",
    "# the follwing code is inspired by https://keras.io/examples/nlp/lstm_seq2seq/\n",
    "input_characters = set()\n",
    "output_characters = set()\n",
    "\n",
    "input_sentences = list(train_data[\"corupted_text\"].values)\n",
    "output_sentences = list(train_data[\"normal_text_input\"].values)\n",
    "for line in input_sentences:\n",
    "  for char in line:\n",
    "    input_characters.add(char)\n",
    "\n",
    "for line in output_sentences:\n",
    "  for char in line:\n",
    "    output_characters.add(char)\n",
    "input_charcters_list = sorted(list(input_characters))\n",
    "output_characters_list = sorted(list(output_characters))\n",
    "print(len(input_charcters_list),len(output_characters_list))"
   ]
  },
  {
   "cell_type": "code",
   "execution_count": 16,
   "metadata": {
    "colab": {
     "base_uri": "https://localhost:8080/"
    },
    "id": "xyt5ijkS3ejy",
    "outputId": "b2a2f8cd-1190-4bc7-82c6-63fcf8897eb4"
   },
   "outputs": [
    {
     "data": {
      "text/plain": [
       "161"
      ]
     },
     "execution_count": 16,
     "metadata": {
      "tags": []
     },
     "output_type": "execute_result"
    }
   ],
   "source": [
    "input_sentences = list(train_data[\"corupted_text\"].values)\n",
    "max_encoder_seq_length = max([len(txt) for txt in input_sentences])\n",
    "max_encoder_seq_length"
   ]
  },
  {
   "cell_type": "code",
   "execution_count": 17,
   "metadata": {
    "colab": {
     "base_uri": "https://localhost:8080/"
    },
    "id": "VGvTTrbM3rWh",
    "outputId": "99b6802d-6edb-4e75-cdf7-5cdc552c688f"
   },
   "outputs": [
    {
     "data": {
      "text/plain": [
       "202"
      ]
     },
     "execution_count": 17,
     "metadata": {
      "tags": []
     },
     "output_type": "execute_result"
    }
   ],
   "source": [
    "output_sentences = list(train_data[\"normal_text_output\"].values)\n",
    "max_decoder_seq_length = max([len(txt) for txt in output_sentences])\n",
    "max_decoder_seq_length"
   ]
  },
  {
   "cell_type": "code",
   "execution_count": 20,
   "metadata": {
    "colab": {
     "base_uri": "https://localhost:8080/"
    },
    "id": "9HqAqY_m7TOK",
    "outputId": "e84ba6c7-ed4e-4cc6-fc3e-e4920b695c6b"
   },
   "outputs": [
    {
     "name": "stdout",
     "output_type": "stream",
     "text": [
      "103\n",
      "92\n"
     ]
    }
   ],
   "source": [
    "input_token_index = dict((c, i) for i, c in enumerate(input_charcters_list))   \n",
    "output_token_index=dict((c, i) for i, c in enumerate(output_characters_list))\n",
    "print(len(input_token_index))\n",
    "print(len(output_token_index))"
   ]
  },
  {
   "cell_type": "markdown",
   "metadata": {
    "id": "KbLQPt8pfVar"
   },
   "source": [
    "![image.png](data:image/png;base64,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)"
   ]
  },
  {
   "cell_type": "code",
   "execution_count": 21,
   "metadata": {
    "id": "xy5RBpBw3JG5"
   },
   "outputs": [],
   "source": [
    "# lets prepare data for model\n",
    "#intialising np.array with zeros for one hot encoding.\n",
    "encoder_input_data = np.zeros((len(train_data),170,len(input_token_index)), dtype=\"int32\")\n",
    "\n",
    "decoder_input_data = np.zeros((len(train_data),202,len(output_token_index)), dtype=\"int32\")\n",
    "decoder_output_data = np.zeros((len(train_data),202,len(output_token_index)), dtype=\"int32\") \n"
   ]
  },
  {
   "cell_type": "code",
   "execution_count": 22,
   "metadata": {
    "colab": {
     "base_uri": "https://localhost:8080/"
    },
    "id": "zq3PnQzt3JKl",
    "outputId": "f68d20ac-b502-42aa-ecc1-4af95fccabdc"
   },
   "outputs": [
    {
     "name": "stdout",
     "output_type": "stream",
     "text": [
      "CPU times: user 145 ms, sys: 437 µs, total: 146 ms\n",
      "Wall time: 146 ms\n"
     ]
    }
   ],
   "source": [
    "%%time\n",
    "#one hot encoding of encoder input data\n",
    "for i,input_text in enumerate(list(train_data['corupted_text'].values)):\n",
    "    for t,char in enumerate(input_text):\n",
    "        encoder_input_data[i,t,input_token_index[char]]=1\n",
    "    encoder_input_data[i,t+1,input_token_index[\" \"]]=1   \n",
    "#one hot encoding of decoder input data and decoder output data   \n",
    "for i,output_text in enumerate(list(train_data['normal_text_output'].values)):\n",
    "    for t,char in enumerate(output_text):\n",
    "        decoder_input_data[i,t,output_token_index[char]]=1\n",
    "        if t > 0:\n",
    "        # decoder_target_data will be ahead by one timestep\n",
    "        # and will not include the start character.\n",
    "            decoder_output_data[i, t - 1, output_token_index[char]] = 1\n",
    "    decoder_input_data[i, t + 1 :, output_token_index[\" \"]] = 1\n",
    "    decoder_output_data[i, t:, output_token_index[\" \"]] = 1  "
   ]
  },
  {
   "cell_type": "markdown",
   "metadata": {
    "id": "4a2Wb6Dh4xJu"
   },
   "source": [
    "preparing data for validation"
   ]
  },
  {
   "cell_type": "code",
   "execution_count": 23,
   "metadata": {
    "id": "lXqa-dVV4wS-"
   },
   "outputs": [],
   "source": [
    "# lets prepare data for model\n",
    "#intialising np.array with zeros for one hot encoding.\n",
    "val_encoder_input_data = np.zeros((len(test_data),170,len(input_token_index)), dtype=\"int32\")\n",
    "val_decoder_input_data = np.zeros((len(test_data),202,len(output_token_index)), dtype=\"int32\")\n",
    "val_decoder_output_data = np.zeros((len(test_data),202,len(output_token_index)), dtype=\"int32\") \n"
   ]
  },
  {
   "cell_type": "code",
   "execution_count": 24,
   "metadata": {
    "colab": {
     "base_uri": "https://localhost:8080/"
    },
    "id": "gaUnu5f24wU3",
    "outputId": "a42e5cae-3318-41f5-cc68-b0ea7cf29c18"
   },
   "outputs": [
    {
     "name": "stdout",
     "output_type": "stream",
     "text": [
      "CPU times: user 3.15 ms, sys: 0 ns, total: 3.15 ms\n",
      "Wall time: 4.42 ms\n"
     ]
    }
   ],
   "source": [
    "%%time\n",
    "#one hot encoding of encoder input data\n",
    "for i,input_text in enumerate(list(test_data['corupted_text'].values)):\n",
    "    for t,char in enumerate(input_text):\n",
    "        val_encoder_input_data[i,t,input_token_index[char]]=1\n",
    "    val_encoder_input_data[i,t+1,input_token_index[\" \"]]=1   \n",
    "#one hot encoding of decoder input data and decoder output data   \n",
    "for i,output_text in enumerate(list(test_data['normal_text_output'].values)):\n",
    "    for t,char in enumerate(output_text):\n",
    "        val_decoder_input_data[i,t,output_token_index[char]]=1\n",
    "        if t > 0:\n",
    "        # decoder_target_data will be ahead by one timestep\n",
    "        # and will not include the start character.\n",
    "            val_decoder_output_data[i, t - 1, output_token_index[char]] = 1\n",
    "    val_decoder_input_data[i, t + 1 :, output_token_index[\" \"]] = 1\n",
    "    val_decoder_output_data[i, t:, output_token_index[\" \"]] = 1  "
   ]
  },
  {
   "cell_type": "code",
   "execution_count": 26,
   "metadata": {
    "colab": {
     "base_uri": "https://localhost:8080/"
    },
    "id": "8JqekNuJ4wXX",
    "outputId": "0dbfdb87-5665-4bc0-fe78-7027e386d767"
   },
   "outputs": [
    {
     "name": "stdout",
     "output_type": "stream",
     "text": [
      "Model: \"model\"\n",
      "__________________________________________________________________________________________________\n",
      "Layer (type)                    Output Shape         Param #     Connected to                     \n",
      "==================================================================================================\n",
      "input_1 (InputLayer)            [(None, None, 103)]  0                                            \n",
      "__________________________________________________________________________________________________\n",
      "input_2 (InputLayer)            [(None, None, 92)]   0                                            \n",
      "__________________________________________________________________________________________________\n",
      "lstm (LSTM)                     [(None, 100), (None, 81600       input_1[0][0]                    \n",
      "__________________________________________________________________________________________________\n",
      "lstm_1 (LSTM)                   [(None, None, 100),  77200       input_2[0][0]                    \n",
      "                                                                 lstm[0][1]                       \n",
      "                                                                 lstm[0][2]                       \n",
      "__________________________________________________________________________________________________\n",
      "dense (Dense)                   (None, None, 92)     9292        lstm_1[0][0]                     \n",
      "==================================================================================================\n",
      "Total params: 168,092\n",
      "Trainable params: 168,092\n",
      "Non-trainable params: 0\n",
      "__________________________________________________________________________________________________\n"
     ]
    }
   ],
   "source": [
    "tf.keras.backend.clear_session()\n",
    "encoder_inputs = tf.keras.Input(shape=(None,len(input_token_index)))\n",
    "encoder = tf.keras.layers.LSTM(100, return_state=True)\n",
    "encoder_outputs,state_h,state_c= encoder(encoder_inputs)\n",
    "#storing encoder states\n",
    "encoder_states = [state_h,state_c]\n",
    " \n",
    "# Set up the decoder, using encoder_states as initial state.\n",
    "decoder_inputs = tf.keras.Input(shape=(None, len(output_token_index)))\n",
    " \n",
    "# We set up our decoder to return full output sequences,\n",
    "# and to return internal states as well. We don't use the\n",
    "# return states in the training model, but we will use them in inference.\n",
    "decoder = tf.keras.layers.LSTM(100, return_sequences=True, return_state=True)\n",
    "decoder_outputs, _,_ = decoder(decoder_inputs, initial_state=encoder_states)\n",
    "decoder_dense = tf.keras.layers.Dense(len(output_token_index), activation=\"softmax\")\n",
    "decoder_outputs = decoder_dense(decoder_outputs)\n",
    " \n",
    "# Define the model\n",
    "model = tf.keras.Model([encoder_inputs, decoder_inputs], decoder_outputs)\n",
    "model.summary()"
   ]
  },
  {
   "cell_type": "code",
   "execution_count": 59,
   "metadata": {
    "colab": {
     "base_uri": "https://localhost:8080/",
     "height": 422
    },
    "id": "JU-H5zOTAhCO",
    "outputId": "68a30a4f-6ca0-4097-bb64-61d3f5cd9d39"
   },
   "outputs": [
    {
     "data": {
      "image/png": "[encoded data removed]",
      "text/plain": [
       "<IPython.core.display.Image object>"
      ]
     },
     "execution_count": 59,
     "metadata": {
      "tags": []
     },
     "output_type": "execute_result"
    }
   ],
   "source": [
    "tf.keras.utils.plot_model(\n",
    "    model,\n",
    "    to_file=\"model.png\",\n",
    "    show_shapes=True,\n",
    "    show_dtype=False,\n",
    "    show_layer_names=True,\n",
    "    rankdir=\"TB\",\n",
    "    expand_nested=False,\n",
    "    dpi=96,\n",
    ")"
   ]
  },
  {
   "cell_type": "code",
   "execution_count": 27,
   "metadata": {
    "id": "d29roXin4wa6"
   },
   "outputs": [],
   "source": [
    "\n",
    "optimizer = tf.keras.optimizers.Adam(0.01)\n",
    "model.compile(optimizer=optimizer, loss='categorical_crossentropy')"
   ]
  },
  {
   "cell_type": "code",
   "execution_count": 28,
   "metadata": {
    "colab": {
     "base_uri": "https://localhost:8080/"
    },
    "id": "tqxS-J373JMc",
    "outputId": "65f0168b-4234-41f8-9382-02d3cfa9657f"
   },
   "outputs": [
    {
     "name": "stdout",
     "output_type": "stream",
     "text": [
      "Epoch 1/50\n",
      "28/28 [==============================] - 10s 58ms/step - loss: 1.8740 - val_loss: 1.2208\n",
      "Epoch 2/50\n",
      "28/28 [==============================] - 1s 30ms/step - loss: 1.2124 - val_loss: 1.0604\n",
      "Epoch 3/50\n",
      "28/28 [==============================] - 1s 31ms/step - loss: 1.0520 - val_loss: 0.9313\n",
      "Epoch 4/50\n",
      "28/28 [==============================] - 1s 31ms/step - loss: 0.9296 - val_loss: 0.8380\n",
      "Epoch 5/50\n",
      "28/28 [==============================] - 1s 30ms/step - loss: 0.8583 - val_loss: 0.7853\n",
      "Epoch 6/50\n",
      "28/28 [==============================] - 1s 30ms/step - loss: 0.8158 - val_loss: 0.7535\n",
      "Epoch 7/50\n",
      "28/28 [==============================] - 1s 31ms/step - loss: 0.7854 - val_loss: 0.7297\n",
      "Epoch 8/50\n",
      "28/28 [==============================] - 1s 30ms/step - loss: 0.7623 - val_loss: 0.7122\n",
      "Epoch 9/50\n",
      "28/28 [==============================] - 1s 30ms/step - loss: 0.7409 - val_loss: 0.6917\n",
      "Epoch 10/50\n",
      "28/28 [==============================] - 1s 30ms/step - loss: 0.7230 - val_loss: 0.6769\n",
      "Epoch 11/50\n",
      "28/28 [==============================] - 1s 30ms/step - loss: 0.7088 - val_loss: 0.6665\n",
      "Epoch 12/50\n",
      "28/28 [==============================] - 1s 30ms/step - loss: 0.6944 - val_loss: 0.6541\n",
      "Epoch 13/50\n",
      "28/28 [==============================] - 1s 31ms/step - loss: 0.6814 - val_loss: 0.6434\n",
      "Epoch 14/50\n",
      "28/28 [==============================] - 1s 31ms/step - loss: 0.6695 - val_loss: 0.6336\n",
      "Epoch 15/50\n",
      "28/28 [==============================] - 1s 30ms/step - loss: 0.6592 - val_loss: 0.6251\n",
      "Epoch 16/50\n",
      "28/28 [==============================] - 1s 30ms/step - loss: 0.6490 - val_loss: 0.6214\n",
      "Epoch 17/50\n",
      "28/28 [==============================] - 1s 31ms/step - loss: 0.6414 - val_loss: 0.6124\n",
      "Epoch 18/50\n",
      "28/28 [==============================] - 1s 30ms/step - loss: 0.6341 - val_loss: 0.6083\n",
      "Epoch 19/50\n",
      "28/28 [==============================] - 1s 31ms/step - loss: 0.6253 - val_loss: 0.6022\n",
      "Epoch 20/50\n",
      "28/28 [==============================] - 1s 32ms/step - loss: 0.6190 - val_loss: 0.5940\n",
      "Epoch 21/50\n",
      "28/28 [==============================] - 1s 33ms/step - loss: 0.6112 - val_loss: 0.5900\n",
      "Epoch 22/50\n",
      "28/28 [==============================] - 1s 31ms/step - loss: 0.6058 - val_loss: 0.5839\n",
      "Epoch 23/50\n",
      "28/28 [==============================] - 1s 31ms/step - loss: 0.5998 - val_loss: 0.5790\n",
      "Epoch 24/50\n",
      "28/28 [==============================] - 1s 30ms/step - loss: 0.5926 - val_loss: 0.5749\n",
      "Epoch 25/50\n",
      "28/28 [==============================] - 1s 31ms/step - loss: 0.5871 - val_loss: 0.5751\n",
      "Epoch 26/50\n",
      "28/28 [==============================] - 1s 32ms/step - loss: 0.5831 - val_loss: 0.5680\n",
      "Epoch 27/50\n",
      "28/28 [==============================] - 1s 31ms/step - loss: 0.5784 - val_loss: 0.5651\n",
      "Epoch 28/50\n",
      "28/28 [==============================] - 1s 32ms/step - loss: 0.5732 - val_loss: 0.5622\n",
      "Epoch 29/50\n",
      "28/28 [==============================] - 1s 30ms/step - loss: 0.5677 - val_loss: 0.5584\n",
      "Epoch 30/50\n",
      "28/28 [==============================] - 1s 30ms/step - loss: 0.5636 - val_loss: 0.5563\n",
      "Epoch 31/50\n",
      "28/28 [==============================] - 1s 31ms/step - loss: 0.5584 - val_loss: 0.5512\n",
      "Epoch 32/50\n",
      "28/28 [==============================] - 1s 31ms/step - loss: 0.5553 - val_loss: 0.5496\n",
      "Epoch 33/50\n",
      "28/28 [==============================] - 1s 31ms/step - loss: 0.5506 - val_loss: 0.5463\n",
      "Epoch 34/50\n",
      "28/28 [==============================] - 1s 30ms/step - loss: 0.5453 - val_loss: 0.5455\n",
      "Epoch 35/50\n",
      "28/28 [==============================] - 1s 31ms/step - loss: 0.5441 - val_loss: 0.5465\n",
      "Epoch 36/50\n",
      "28/28 [==============================] - 1s 30ms/step - loss: 0.5409 - val_loss: 0.5405\n",
      "Epoch 37/50\n",
      "28/28 [==============================] - 1s 31ms/step - loss: 0.5364 - val_loss: 0.5376\n",
      "Epoch 38/50\n",
      "28/28 [==============================] - 1s 31ms/step - loss: 0.5313 - val_loss: 0.5363\n",
      "Epoch 39/50\n",
      "28/28 [==============================] - 1s 31ms/step - loss: 0.5272 - val_loss: 0.5326\n",
      "Epoch 40/50\n",
      "28/28 [==============================] - 1s 31ms/step - loss: 0.5223 - val_loss: 0.5285\n",
      "Epoch 41/50\n",
      "28/28 [==============================] - 1s 31ms/step - loss: 0.5202 - val_loss: 0.5280\n",
      "Epoch 42/50\n",
      "28/28 [==============================] - 1s 30ms/step - loss: 0.5163 - val_loss: 0.5295\n",
      "Epoch 43/50\n",
      "28/28 [==============================] - 1s 31ms/step - loss: 0.5128 - val_loss: 0.5251\n",
      "Epoch 44/50\n",
      "28/28 [==============================] - 1s 31ms/step - loss: 0.5099 - val_loss: 0.5240\n",
      "Epoch 45/50\n",
      "28/28 [==============================] - 1s 30ms/step - loss: 0.5060 - val_loss: 0.5206\n",
      "Epoch 46/50\n",
      "28/28 [==============================] - 1s 31ms/step - loss: 0.5028 - val_loss: 0.5220\n",
      "Epoch 47/50\n",
      "28/28 [==============================] - 1s 30ms/step - loss: 0.4997 - val_loss: 0.5182\n",
      "Epoch 48/50\n",
      "28/28 [==============================] - 1s 30ms/step - loss: 0.4957 - val_loss: 0.5211\n",
      "Epoch 49/50\n",
      "28/28 [==============================] - 1s 32ms/step - loss: 0.4939 - val_loss: 0.5166\n",
      "Epoch 50/50\n",
      "28/28 [==============================] - 1s 31ms/step - loss: 0.4902 - val_loss: 0.5142\n"
     ]
    }
   ],
   "source": [
    "history = model.fit([encoder_input_data, decoder_input_data],decoder_output_data,validation_split=0.1,batch_size=64,epochs=50)"
   ]
  },
  {
   "cell_type": "code",
   "execution_count": 60,
   "metadata": {
    "colab": {
     "base_uri": "https://localhost:8080/",
     "height": 295
    },
    "id": "xrm5gH6-A4TZ",
    "outputId": "22700b3e-1108-45c8-c284-0748cacb3c90"
   },
   "outputs": [
    {
     "data": {
      "image/png": "[encoded data removed]",
      "text/plain": [
       "<Figure size 432x288 with 1 Axes>"
      ]
     },
     "metadata": {
      "needs_background": "light",
      "tags": []
     },
     "output_type": "display_data"
    }
   ],
   "source": [
    "from matplotlib import pyplot as plt\n",
    "plt.plot(history.history['loss'])\n",
    "plt.plot(history.history['val_loss'])\n",
    "plt.title('model perfomance')\n",
    "plt.ylabel('loss')\n",
    "plt.xlabel('epoch')\n",
    "plt.legend(['train', 'val'], loc='upper left')\n",
    "plt.show()"
   ]
  },
  {
   "cell_type": "code",
   "execution_count": 29,
   "metadata": {
    "id": "sNTSmozk3JSS"
   },
   "outputs": [],
   "source": [
    "encoder_inputs = model.input[0]  # input_1\n",
    "encoder_outputs, state_h_enc,state_c_enc = model.layers[2].output  # lstm\n",
    "encoder_states = [state_h_enc,state_c_enc]\n",
    "encoder_model = tf.keras.Model(encoder_inputs, encoder_states)\n",
    "\n",
    "\n",
    "decoder_inputs=model.inputs[1]\n",
    "decoder_state_input_h= tf.keras.Input(shape=(100,))\n",
    "decoder_state_input_c= tf.keras.Input(shape=(100,))\n",
    "decoder_states_inputs = [decoder_state_input_h, decoder_state_input_c]\n",
    "decoder_lstm =model.layers[3]\n",
    "decoder_outputs, state_h_dec, state_c_dec = decoder_lstm(decoder_inputs, initial_state=decoder_states_inputs)\n",
    "decoder_states = [state_h_dec, state_c_dec]\n",
    "decoder_dense = model.layers[4]\n",
    "decoder_outputs = decoder_dense(decoder_outputs)\n",
    "decoder_model = tf.keras.Model([decoder_inputs] + decoder_states_inputs, [decoder_outputs] + decoder_states)"
   ]
  },
  {
   "cell_type": "code",
   "execution_count": 42,
   "metadata": {
    "id": "8OOdsVTy6PQD"
   },
   "outputs": [],
   "source": [
    "# Reverse-lookup token index to decode sequences back to\n",
    "# something readable.\n",
    "reverse_input_char_index = dict((i, char) for char, i in input_token_index.items())\n",
    "reverse_target_char_index = dict((i, char) for char, i in output_token_index.items())\n"
   ]
  },
  {
   "cell_type": "code",
   "execution_count": 49,
   "metadata": {
    "id": "mg-QNkle-NSL"
   },
   "outputs": [],
   "source": [
    "# this code is inspired by the keras blog https://keras.io/examples/nlp/lstm_seq2seq/#run-inference-sampling\n",
    "def decode_sequence(input_seq):\n",
    "    # Encode the input as state vectors.\n",
    "    states_value = encoder_model.predict(input_seq)\n",
    "\n",
    "    # Generate empty target sequence of length 1.\n",
    "    target_seq = np.zeros((1, 1, 92))\n",
    "    # Populate the first character of target sequence with the start character.\n",
    "    target_seq[0, 0, output_token_index[\"\\t\"]] = 1.0\n",
    "\n",
    "    # Sampling loop for a batch of sequences\n",
    "    # (to simplify, here we assume a batch of size 1).\n",
    "    stop_condition = False\n",
    "    decoded_sentence = \"\"\n",
    "    while not stop_condition:\n",
    "        output_tokens, h, c = decoder_model.predict([target_seq] + states_value)\n",
    "\n",
    "        # Sample a token\n",
    "        sampled_token_index = np.argmax(output_tokens[0, -1, :])\n",
    "        sampled_char = reverse_target_char_index[sampled_token_index]\n",
    "        decoded_sentence += sampled_char\n",
    "\n",
    "        # Exit condition: either hit max length\n",
    "        # or find stop character.\n",
    "        if sampled_char == \"\\n\" or len(decoded_sentence) > max_decoder_seq_length:\n",
    "            stop_condition = True\n",
    "\n",
    "        # Update the target sequence (of length 1).\n",
    "        target_seq = np.zeros((1, 1, 92))\n",
    "        target_seq[0, 0, sampled_token_index] = 1.0\n",
    "\n",
    "        # Update states\n",
    "        states_value = [h, c]\n",
    "    return decoded_sentence"
   ]
  },
  {
   "cell_type": "code",
   "execution_count": 56,
   "metadata": {
    "colab": {
     "base_uri": "https://localhost:8080/"
    },
    "id": "d_UotoSm_2Y_",
    "outputId": "e251b14a-b2fc-4801-f122-891f6d225744"
   },
   "outputs": [
    {
     "data": {
      "text/plain": [
       "array([[0, 0, 0, ..., 0, 0, 0],\n",
       "       [1, 0, 0, ..., 0, 0, 0],\n",
       "       [0, 0, 0, ..., 0, 0, 0],\n",
       "       ...,\n",
       "       [0, 0, 0, ..., 0, 0, 0],\n",
       "       [0, 0, 0, ..., 0, 0, 0],\n",
       "       [0, 0, 0, ..., 0, 0, 0]], dtype=int32)"
      ]
     },
     "execution_count": 56,
     "metadata": {
      "tags": []
     },
     "output_type": "execute_result"
    }
   ],
   "source": [
    "encoder_input_data[0]"
   ]
  },
  {
   "cell_type": "code",
   "execution_count": 61,
   "metadata": {
    "colab": {
     "base_uri": "https://localhost:8080/"
    },
    "id": "H3rO3j_j-s4b",
    "outputId": "fdb6f394-bf21-4118-b896-25b83c226165"
   },
   "outputs": [
    {
     "name": "stdout",
     "output_type": "stream",
     "text": [
      "--------------------------------------------------\n",
      "Input sentence: Yeah. That day I checked, did not have. So how? Where do you want? \n",
      "\n",
      "Decoded sentence: at all the place to meet you all ask you all ask you all ask you all ask you all ask you all ask you all ask you all ask you all ask you all ask you all ask you all ask you all ask you all ask you all as\n",
      "--------------------------------------------------\n",
      "Input sentence: I think you can, just get the address from your friends first. Haha, I did a lot of shopping. Felt quite bad, because Aust shop a lot already. \n",
      "\n",
      "Decoded sentence: at all the place to meet you all ask you all ask you all ask you all ask you all ask you all ask you all ask you all ask you all ask you all ask you all ask you all ask you all ask you all ask you all as\n",
      "--------------------------------------------------\n",
      "Input sentence: Oh, want to go there? \n",
      "\n",
      "Decoded sentence: op you are going to chat? \n",
      "\n",
      "--------------------------------------------------\n",
      "Input sentence: Are you driving there tomorrow? \n",
      "\n",
      "Decoded sentence: he I can go and see you all ask you all ask you all ask you all ask you all ask you all ask you all ask you all ask you all ask you all ask you all ask you all ask you all ask you all ask you all ask you\n",
      "--------------------------------------------------\n",
      "Input sentence: You occupy seats in the canteen before 2. Then I come out can eat already. \n",
      "\n",
      "Decoded sentence: he I can go and see you all ask you all ask you all ask you all ask you all ask you all ask you all ask you all ask you all ask you all ask you all ask you all ask you all ask you all ask you all ask you\n",
      "--------------------------------------------------\n",
      "Input sentence: Really? Yes, I'll probably see him in camp. Tomorrow is all company going. \n",
      "\n",
      "Decoded sentence: oke the place to meet you all ask you all ask you all ask you all ask you all ask you all ask you all ask you all ask you all ask you all ask you all ask you all ask you all ask you all ask you all ask y\n",
      "--------------------------------------------------\n",
      "Input sentence: Hey, Xin. Are we going for lesson on Thursday? Oh, Friday night we are attending the theory lesson? \n",
      "\n",
      "Decoded sentence: he I can go and see you all ask you all ask you all ask you all ask you all ask you all ask you all ask you all ask you all ask you all ask you all ask you all ask you all ask you all ask you all ask you\n",
      "--------------------------------------------------\n",
      "Input sentence: Freshman Orientation Week. It starts this Friday, if you really really want to join, you can come down to school. There will be people around, just ask. \n",
      "\n",
      "Decoded sentence: op the the book the place to meet you all ask you all ask you all ask you all ask you all ask you all ask you all ask you all ask you all ask you all ask you all ask you all ask you all ask you all ask y\n",
      "--------------------------------------------------\n",
      "Input sentence: Hey Yijue, how are you getting there later? We are meeting at 7:30 at Orchard MRT. \n",
      "\n",
      "Decoded sentence: he I can go and see you all ask you all ask you all ask you all ask you all ask you all ask you all ask you all ask you all ask you all ask you all ask you all ask you all ask you all ask you all ask you\n",
      "--------------------------------------------------\n",
      "Input sentence: Hey, do you want to meet outside the lecture theatre? Haha. Time's a little tight though. \n",
      "\n",
      "Decoded sentence: he I can go and see you all ask you all ask you all ask you all ask you all ask you all ask you all ask you all ask you all ask you all ask you all ask you all ask you all ask you all ask you all ask you\n",
      "--------------------------------------------------\n",
      "Input sentence: Joey: Hello, are you a boy or a girl? I'm a girl. \n",
      "\n",
      "Decoded sentence: he I can go and see you all be and see you all ask you all ask you all ask you all ask you all ask you all ask you all ask you all ask you all ask you all ask you all ask you all ask you all ask you all \n",
      "--------------------------------------------------\n",
      "Input sentence: My phone has no battery. Pick me up at 2PM at Drive. Have you all eaten? Faint, here is using Huixin's phone. \n",
      "\n",
      "Decoded sentence: he I can go and see you all ask you all ask you all ask you all ask you all ask you all ask you all ask you all ask you all ask you all ask you all ask you all ask you all ask you all ask you all ask you\n",
      "--------------------------------------------------\n",
      "Input sentence: My sister does silly things you know. She was arguing with me about Sun's hair and then she accuse me of something I haven't thought of. I hate it when people accuse me. \n",
      "\n",
      "Decoded sentence: he I can go and see you all ask you all ask you all ask you all ask you all ask you all ask you all ask you all ask you all ask you all ask you all ask you all ask you all ask you all ask you all ask you\n",
      "--------------------------------------------------\n",
      "Input sentence: Bad news. I forgot to put my cash card in when entering ERP. \n",
      "\n",
      "Decoded sentence: hat did you go to chat so still me are you all ask you all ask you all ask you all ask you all ask you all ask you all ask you all ask you all ask you all ask you all ask you all ask you all ask you all \n",
      "--------------------------------------------------\n",
      "Input sentence: At 5:45 I can. Because I finish work at this time. \n",
      "\n",
      "Decoded sentence: hat do you want to chat are you all ask you all ask you all ask you all ask you all ask you all ask you all ask you all ask you all ask you all ask you all ask you all ask you all ask you all ask you all\n",
      "--------------------------------------------------\n",
      "Input sentence: Sorry, didn't check my phone yesterday. By the way, are you free later? Want to visit Fion? \n",
      "\n",
      "Decoded sentence: he I can go and see you all ask you all ask you all ask you all ask you all ask you all ask you all ask you all ask you all ask you all ask you all ask you all ask you all ask you all ask you all ask you\n",
      "--------------------------------------------------\n",
      "Input sentence: Just came to nydc, she just ordered a baked rice and I ordered a drink. You done already. \n",
      "\n",
      "Decoded sentence: at all the place to meet you all ask you all ask you all ask you all ask you all ask you all ask you all ask you all ask you all ask you all ask you all ask you all ask you all ask you all ask you all as\n",
      "--------------------------------------------------\n",
      "Input sentence: Hey, I'll go Suntec and find you. Wait for me. I'm on my way. \n",
      "\n",
      "Decoded sentence: he I can go and see you all ask you all ask you all ask you all ask you all ask you all ask you all ask you all ask you all ask you all ask you all ask you all ask you all ask you all ask you all ask you\n",
      "--------------------------------------------------\n",
      "Input sentence: Yes. I will be going with my hall. \n",
      "\n",
      "Decoded sentence: hat did you go to chat so still me are you all ask you all ask you all ask you all ask you all ask you all ask you all ask you all ask you all ask you all ask you all ask you all ask you all ask you all \n",
      "--------------------------------------------------\n",
      "Input sentence: Sen, are you male or female? \n",
      "\n",
      "Decoded sentence: hen I can go and see you all ask you all ask you all ask you all ask you all ask you all ask you all ask you all ask you all ask you all ask you all ask you all ask you all ask you all ask you all ask yo\n"
     ]
    }
   ],
   "source": [
    "for seq_index in range(20):\n",
    "    # Take one sequence (part of the test set)\n",
    "    # for trying out decoding.\n",
    "    input_seq = val_encoder_input_data[seq_index : seq_index + 1]\n",
    "    decoded_sentence = decode_sequence(input_seq)\n",
    "    print(\"-\"*50)\n",
    "    print(\"Input sentence:\", test_data['normal_text_output'].iloc[seq_index])\n",
    "    print(\"Decoded sentence:\", decoded_sentence)"
   ]
  },
  {
   "cell_type": "markdown",
   "metadata": {
    "id": "n4hPuStVkzHF"
   },
   "source": [
    "predection"
   ]
  },
  {
   "cell_type": "code",
   "execution_count": null,
   "metadata": {
    "id": "LtNVxB4qh6pf"
   },
   "outputs": [],
   "source": []
  },
  {
   "cell_type": "code",
   "execution_count": null,
   "metadata": {
    "id": "HoO2shjwh6tA"
   },
   "outputs": [],
   "source": []
  }
 ],
 "metadata": {
  "accelerator": "GPU",
  "colab": {
   "name": "modelling.ipynb",
   "provenance": []
  },
  "kernelspec": {
   "display_name": "Python 3",
   "language": "python",
   "name": "python3"
  },
  "language_info": {
   "codemirror_mode": {
    "name": "ipython",
    "version": 3
   },
   "file_extension": ".py",
   "mimetype": "text/x-python",
   "name": "python",
   "nbconvert_exporter": "python",
   "pygments_lexer": "ipython3",
   "version": "3.8.3"
  }
 },
 "nbformat": 4,
 "nbformat_minor": 1
}
