{
 "cells": [
  {
   "cell_type": "markdown",
   "id": "stainless-convergence",
   "metadata": {},
   "source": [
    "<h1> <right> SENTENCE CORRECTION USING RNN </right> <h1>"
   ]
  },
  {
   "cell_type": "markdown",
   "id": "central-ghana",
   "metadata": {},
   "source": [
    "<h3> business overview </h3> <br>\n",
    "we need to build a model that changes the corrupted text into  the normal stanard distribution of english text. Here the input text \n",
    "will be randomly corrupted sentences and our model need to align it in a proper manner that makes a meaning using model"
   ]
  },
  {
   "cell_type": "markdown",
   "id": "correct-dragon",
   "metadata": {},
   "source": [
    "<h3> Research paper </h3><br>\n",
    "<a>https://cs224d.stanford.edu/reports/Lewis.pdf</a>"
   ]
  },
  {
   "cell_type": "markdown",
   "id": "exposed-adelaide",
   "metadata": {},
   "source": [
    "<h3> data preparation </h3> <br>\n",
    "In the research paper they took the dataset from the following link <a>https://www.comp.nus.edu.sg/~nlp/corpora.html</a>\n",
    "and the dataset consists of courpted text in the first line, stanard text in the second line and chinese in the third line <br>\n",
    "so ith line corupted text<br>\n",
    "i+1th line stanard text <br>\n",
    "i+2th line chinese text <br>\n",
    "we need only i and i+1 th line for our model<br>\n",
    "so i downloded the corpus from the same site"
   ]
  },
  {
   "cell_type": "code",
   "execution_count": 1,
   "id": "voluntary-collapse",
   "metadata": {},
   "outputs": [
    {
     "name": "stdout",
     "output_type": "stream",
     "text": [
      "Wall time: 1.91 s\n"
     ]
    }
   ],
   "source": [
    "%%time\n",
    "# loading necessary libraries\n",
    "import pandas as pd\n",
    "import seaborn as sns\n",
    "import matplotlib as plt\n",
    "import matplotlib.pyplot as plt\n",
    "import string\n",
    "from nltk.corpus import stopwords\n",
    "import re"
   ]
  },
  {
   "cell_type": "code",
   "execution_count": 2,
   "id": "internal-teens",
   "metadata": {},
   "outputs": [],
   "source": [
    "file_name='en2cn-2k.en2nen2cn'\n",
    "file = open(file_name,'r',encoding=\"utf8\")\n",
    "lines = []\n",
    "for line in file.readlines():\n",
    "    lines.append(line)"
   ]
  },
  {
   "cell_type": "code",
   "execution_count": 3,
   "id": "incident-religious",
   "metadata": {},
   "outputs": [],
   "source": [
    "corupted_text = []\n",
    "normal_text = []\n",
    "for i in range(0,len(lines),3):\n",
    "    corupted_text.append(lines[i])\n",
    "    normal_text.append(lines[i+1])\n",
    "    "
   ]
  },
  {
   "cell_type": "code",
   "execution_count": 4,
   "id": "beautiful-profession",
   "metadata": {},
   "outputs": [],
   "source": [
    "dataframe = pd.DataFrame({\"corupted_text\":corupted_text,\"normal_text\":normal_text})"
   ]
  },
  {
   "cell_type": "code",
   "execution_count": 5,
   "id": "confident-business",
   "metadata": {},
   "outputs": [
    {
     "data": {
      "text/html": [
       "<div>\n",
       "<style scoped>\n",
       "    .dataframe tbody tr th:only-of-type {\n",
       "        vertical-align: middle;\n",
       "    }\n",
       "\n",
       "    .dataframe tbody tr th {\n",
       "        vertical-align: top;\n",
       "    }\n",
       "\n",
       "    .dataframe thead th {\n",
       "        text-align: right;\n",
       "    }\n",
       "</style>\n",
       "<table border=\"1\" class=\"dataframe\">\n",
       "  <thead>\n",
       "    <tr style=\"text-align: right;\">\n",
       "      <th></th>\n",
       "      <th>corupted_text</th>\n",
       "      <th>normal_text</th>\n",
       "    </tr>\n",
       "  </thead>\n",
       "  <tbody>\n",
       "    <tr>\n",
       "      <th>0</th>\n",
       "      <td>U wan me to \"chop\" seat 4 u nt?\\n</td>\n",
       "      <td>Do you want me to reserve seat for you or not?\\n</td>\n",
       "    </tr>\n",
       "    <tr>\n",
       "      <th>1</th>\n",
       "      <td>Yup. U reaching. We order some durian pastry a...</td>\n",
       "      <td>Yeap. You reaching? We ordered some Durian pas...</td>\n",
       "    </tr>\n",
       "    <tr>\n",
       "      <th>2</th>\n",
       "      <td>They become more ex oredi... Mine is like 25.....</td>\n",
       "      <td>They become more expensive already. Mine is li...</td>\n",
       "    </tr>\n",
       "    <tr>\n",
       "      <th>3</th>\n",
       "      <td>I'm thai. what do u do?\\n</td>\n",
       "      <td>I'm Thai. What do you do?\\n</td>\n",
       "    </tr>\n",
       "  </tbody>\n",
       "</table>\n",
       "</div>"
      ],
      "text/plain": [
       "                                       corupted_text  \\\n",
       "0                  U wan me to \"chop\" seat 4 u nt?\\n   \n",
       "1  Yup. U reaching. We order some durian pastry a...   \n",
       "2  They become more ex oredi... Mine is like 25.....   \n",
       "3                          I'm thai. what do u do?\\n   \n",
       "\n",
       "                                         normal_text  \n",
       "0   Do you want me to reserve seat for you or not?\\n  \n",
       "1  Yeap. You reaching? We ordered some Durian pas...  \n",
       "2  They become more expensive already. Mine is li...  \n",
       "3                        I'm Thai. What do you do?\\n  "
      ]
     },
     "execution_count": 5,
     "metadata": {},
     "output_type": "execute_result"
    }
   ],
   "source": [
    "dataframe.head(4)"
   ]
  },
  {
   "cell_type": "code",
   "execution_count": 6,
   "id": "exclusive-robertson",
   "metadata": {},
   "outputs": [],
   "source": [
    "def preprocess(text):\n",
    "    text = text.replace(\"\\\\n\",\"\")\n",
    "    text = text.strip()\n",
    "    return text"
   ]
  },
  {
   "cell_type": "code",
   "execution_count": 7,
   "id": "medium-invalid",
   "metadata": {},
   "outputs": [
    {
     "name": "stdout",
     "output_type": "stream",
     "text": [
      "Wall time: 3.23 ms\n"
     ]
    }
   ],
   "source": [
    "%%time\n",
    "dataframe[\"corupted_text\"] = dataframe[\"corupted_text\"].apply(preprocess)\n",
    "dataframe[\"normal_text\"] = dataframe[\"normal_text\"].apply(preprocess)"
   ]
  },
  {
   "cell_type": "code",
   "execution_count": 8,
   "id": "owned-monaco",
   "metadata": {},
   "outputs": [
    {
     "data": {
      "text/html": [
       "<div>\n",
       "<style scoped>\n",
       "    .dataframe tbody tr th:only-of-type {\n",
       "        vertical-align: middle;\n",
       "    }\n",
       "\n",
       "    .dataframe tbody tr th {\n",
       "        vertical-align: top;\n",
       "    }\n",
       "\n",
       "    .dataframe thead th {\n",
       "        text-align: right;\n",
       "    }\n",
       "</style>\n",
       "<table border=\"1\" class=\"dataframe\">\n",
       "  <thead>\n",
       "    <tr style=\"text-align: right;\">\n",
       "      <th></th>\n",
       "      <th>corupted_text</th>\n",
       "      <th>normal_text</th>\n",
       "    </tr>\n",
       "  </thead>\n",
       "  <tbody>\n",
       "    <tr>\n",
       "      <th>0</th>\n",
       "      <td>U wan me to \"chop\" seat 4 u nt?</td>\n",
       "      <td>Do you want me to reserve seat for you or not?</td>\n",
       "    </tr>\n",
       "    <tr>\n",
       "      <th>1</th>\n",
       "      <td>Yup. U reaching. We order some durian pastry a...</td>\n",
       "      <td>Yeap. You reaching? We ordered some Durian pas...</td>\n",
       "    </tr>\n",
       "    <tr>\n",
       "      <th>2</th>\n",
       "      <td>They become more ex oredi... Mine is like 25.....</td>\n",
       "      <td>They become more expensive already. Mine is li...</td>\n",
       "    </tr>\n",
       "    <tr>\n",
       "      <th>3</th>\n",
       "      <td>I'm thai. what do u do?</td>\n",
       "      <td>I'm Thai. What do you do?</td>\n",
       "    </tr>\n",
       "    <tr>\n",
       "      <th>4</th>\n",
       "      <td>Hi! How did your week go? Haven heard from you...</td>\n",
       "      <td>Hi! How did your week go? Haven't heard from y...</td>\n",
       "    </tr>\n",
       "  </tbody>\n",
       "</table>\n",
       "</div>"
      ],
      "text/plain": [
       "                                       corupted_text  \\\n",
       "0                    U wan me to \"chop\" seat 4 u nt?   \n",
       "1  Yup. U reaching. We order some durian pastry a...   \n",
       "2  They become more ex oredi... Mine is like 25.....   \n",
       "3                            I'm thai. what do u do?   \n",
       "4  Hi! How did your week go? Haven heard from you...   \n",
       "\n",
       "                                         normal_text  \n",
       "0     Do you want me to reserve seat for you or not?  \n",
       "1  Yeap. You reaching? We ordered some Durian pas...  \n",
       "2  They become more expensive already. Mine is li...  \n",
       "3                          I'm Thai. What do you do?  \n",
       "4  Hi! How did your week go? Haven't heard from y...  "
      ]
     },
     "execution_count": 8,
     "metadata": {},
     "output_type": "execute_result"
    }
   ],
   "source": [
    "dataframe.head(5)"
   ]
  },
  {
   "cell_type": "code",
   "execution_count": 9,
   "id": "owned-makeup",
   "metadata": {},
   "outputs": [
    {
     "data": {
      "text/plain": [
       "(2000, 2)"
      ]
     },
     "execution_count": 9,
     "metadata": {},
     "output_type": "execute_result"
    }
   ],
   "source": [
    "dataframe.shape"
   ]
  },
  {
   "cell_type": "code",
   "execution_count": 19,
   "id": "polish-franklin",
   "metadata": {},
   "outputs": [],
   "source": [
    "dataframe.to_csv(\"extracted_data.csv\")"
   ]
  },
  {
   "cell_type": "code",
   "execution_count": 10,
   "id": "ranking-copyright",
   "metadata": {},
   "outputs": [],
   "source": [
    "# this piece of cleans the text\n",
    "clean = \"\"\n",
    "def process(text):\n",
    "    # lowercase it\n",
    "    text = text.lower()\n",
    "    \n",
    "    # remove punctuation\n",
    "    text = re.sub(r'[^\\w\\s]', '', text)\n",
    "    \n",
    "    # remove stopwords\n",
    "    text = [t for t in text.split() if t not in stopwords.words('english')]\n",
    "    \n",
    "\n",
    "    string = \"\"\n",
    "    for i in text:\n",
    "        string = string + i+\" \"\n",
    "    \n",
    "    clean = string\n",
    "    \n",
    "    # return token list\n",
    "    return clean"
   ]
  },
  {
   "cell_type": "code",
   "execution_count": 11,
   "id": "surprised-north",
   "metadata": {},
   "outputs": [],
   "source": [
    "# calcuationg the length of corupted text and normal text\n",
    "def getLength(text):\n",
    "    n = len(text)\n",
    "    return n"
   ]
  },
  {
   "cell_type": "code",
   "execution_count": 12,
   "id": "considerable-problem",
   "metadata": {},
   "outputs": [
    {
     "name": "stdout",
     "output_type": "stream",
     "text": [
      "Wall time: 3.29 ms\n"
     ]
    }
   ],
   "source": [
    "%%time\n",
    "dataframe[\"corupted_text_length\"] = dataframe[\"corupted_text\"].apply(getLength)\n",
    "dataframe[\"normal_text_length\"] = dataframe[\"normal_text\"].apply(getLength)"
   ]
  },
  {
   "cell_type": "code",
   "execution_count": 13,
   "id": "optical-fortune",
   "metadata": {},
   "outputs": [
    {
     "name": "stdout",
     "output_type": "stream",
     "text": [
      "Wall time: 8.72 s\n"
     ]
    }
   ],
   "source": [
    "%%time\n",
    "dataframe[\"clean_corupted_text\"] = dataframe[\"corupted_text\"].apply(process)\n",
    "dataframe[\"clean_normal_text\"] = dataframe[\"normal_text\"].apply(process)"
   ]
  },
  {
   "cell_type": "code",
   "execution_count": 25,
   "id": "acoustic-juice",
   "metadata": {},
   "outputs": [
    {
     "data": {
      "text/html": [
       "<div>\n",
       "<style scoped>\n",
       "    .dataframe tbody tr th:only-of-type {\n",
       "        vertical-align: middle;\n",
       "    }\n",
       "\n",
       "    .dataframe tbody tr th {\n",
       "        vertical-align: top;\n",
       "    }\n",
       "\n",
       "    .dataframe thead th {\n",
       "        text-align: right;\n",
       "    }\n",
       "</style>\n",
       "<table border=\"1\" class=\"dataframe\">\n",
       "  <thead>\n",
       "    <tr style=\"text-align: right;\">\n",
       "      <th></th>\n",
       "      <th>corupted_text</th>\n",
       "      <th>normal_text</th>\n",
       "      <th>corupted_text_length</th>\n",
       "      <th>normal_text_length</th>\n",
       "      <th>clean_corupted_text</th>\n",
       "      <th>clean_normal_text</th>\n",
       "    </tr>\n",
       "  </thead>\n",
       "  <tbody>\n",
       "    <tr>\n",
       "      <th>0</th>\n",
       "      <td>U wan me to \"chop\" seat 4 u nt?</td>\n",
       "      <td>Do you want me to reserve seat for you or not?</td>\n",
       "      <td>31</td>\n",
       "      <td>46</td>\n",
       "      <td>u wan chop seat 4 u nt</td>\n",
       "      <td>want reserve seat</td>\n",
       "    </tr>\n",
       "    <tr>\n",
       "      <th>1</th>\n",
       "      <td>Yup. U reaching. We order some durian pastry a...</td>\n",
       "      <td>Yeap. You reaching? We ordered some Durian pas...</td>\n",
       "      <td>67</td>\n",
       "      <td>74</td>\n",
       "      <td>yup u reaching order durian pastry already u c...</td>\n",
       "      <td>yeap reaching ordered durian pastry already co...</td>\n",
       "    </tr>\n",
       "    <tr>\n",
       "      <th>2</th>\n",
       "      <td>They become more ex oredi... Mine is like 25.....</td>\n",
       "      <td>They become more expensive already. Mine is li...</td>\n",
       "      <td>100</td>\n",
       "      <td>111</td>\n",
       "      <td>become ex oredi mine like 25 horrible n less t...</td>\n",
       "      <td>become expensive already mine like 25 horrible...</td>\n",
       "    </tr>\n",
       "    <tr>\n",
       "      <th>3</th>\n",
       "      <td>I'm thai. what do u do?</td>\n",
       "      <td>I'm Thai. What do you do?</td>\n",
       "      <td>23</td>\n",
       "      <td>25</td>\n",
       "      <td>im thai u</td>\n",
       "      <td>im thai</td>\n",
       "    </tr>\n",
       "    <tr>\n",
       "      <th>4</th>\n",
       "      <td>Hi! How did your week go? Haven heard from you...</td>\n",
       "      <td>Hi! How did your week go? Haven't heard from y...</td>\n",
       "      <td>80</td>\n",
       "      <td>81</td>\n",
       "      <td>hi week go heard time hows everything</td>\n",
       "      <td>hi week go havent heard time hows everything</td>\n",
       "    </tr>\n",
       "  </tbody>\n",
       "</table>\n",
       "</div>"
      ],
      "text/plain": [
       "                                       corupted_text  \\\n",
       "0                    U wan me to \"chop\" seat 4 u nt?   \n",
       "1  Yup. U reaching. We order some durian pastry a...   \n",
       "2  They become more ex oredi... Mine is like 25.....   \n",
       "3                            I'm thai. what do u do?   \n",
       "4  Hi! How did your week go? Haven heard from you...   \n",
       "\n",
       "                                         normal_text  corupted_text_length  \\\n",
       "0     Do you want me to reserve seat for you or not?                    31   \n",
       "1  Yeap. You reaching? We ordered some Durian pas...                    67   \n",
       "2  They become more expensive already. Mine is li...                   100   \n",
       "3                          I'm Thai. What do you do?                    23   \n",
       "4  Hi! How did your week go? Haven't heard from y...                    80   \n",
       "\n",
       "   normal_text_length                                clean_corupted_text  \\\n",
       "0                  46                            u wan chop seat 4 u nt    \n",
       "1                  74  yup u reaching order durian pastry already u c...   \n",
       "2                 111  become ex oredi mine like 25 horrible n less t...   \n",
       "3                  25                                         im thai u    \n",
       "4                  81             hi week go heard time hows everything    \n",
       "\n",
       "                                   clean_normal_text  \n",
       "0                                 want reserve seat   \n",
       "1  yeap reaching ordered durian pastry already co...  \n",
       "2  become expensive already mine like 25 horrible...  \n",
       "3                                           im thai   \n",
       "4      hi week go havent heard time hows everything   "
      ]
     },
     "execution_count": 25,
     "metadata": {},
     "output_type": "execute_result"
    }
   ],
   "source": [
    "dataframe.head()"
   ]
  },
  {
   "cell_type": "markdown",
   "id": "known-barrel",
   "metadata": {},
   "source": [
    "<h4> top 10 lengths of corupted_text </h4>"
   ]
  },
  {
   "cell_type": "code",
   "execution_count": 14,
   "id": "tested-marine",
   "metadata": {},
   "outputs": [
    {
     "name": "stdout",
     "output_type": "stream",
     "text": [
      "\n"
     ]
    },
    {
     "data": {
      "image/png": "[encoded data removed]",
      "text/plain": [
       "<Figure size 720x720 with 1 Axes>"
      ]
     },
     "metadata": {
      "needs_background": "light"
     },
     "output_type": "display_data"
    },
    {
     "name": "stdout",
     "output_type": "stream",
     "text": [
      "Wall time: 135 ms\n"
     ]
    }
   ],
   "source": [
    "%%time\n",
    "x=[]\n",
    "for i in range(10):\n",
    "    x.append(i)\n",
    "y = list(dataframe[\"corupted_text_length\"].values)\n",
    "y.sort(reverse=True)\n",
    "y = y[0:10]\n",
    "fig, ax = plt.subplots(figsize=(10,10))\n",
    "ax.barh(x,y,0.9)\n",
    "for i, v in enumerate(y):\n",
    "    ax.text(v + 3, i + .25, str(v), \n",
    "            color = 'blue', fontweight = 'bold')\n",
    "plt.title(\"top 10 lengths of corupted text\")\n",
    "print()\n",
    "plt.show()"
   ]
  },
  {
   "cell_type": "markdown",
   "id": "derived-entity",
   "metadata": {},
   "source": [
    "the maximum length of the corrupted text is 238 followed by length of 208 and 205"
   ]
  },
  {
   "cell_type": "markdown",
   "id": "tribal-failure",
   "metadata": {},
   "source": [
    "<h4> bottom 10 lengths of corputed_text_length</h4>"
   ]
  },
  {
   "cell_type": "code",
   "execution_count": 27,
   "id": "controversial-rough",
   "metadata": {},
   "outputs": [
    {
     "data": {
      "image/png": "[encoded data removed]",
      "text/plain": [
       "<Figure size 720x720 with 1 Axes>"
      ]
     },
     "metadata": {
      "needs_background": "light"
     },
     "output_type": "display_data"
    },
    {
     "name": "stdout",
     "output_type": "stream",
     "text": [
      "Wall time: 223 ms\n"
     ]
    }
   ],
   "source": [
    "%%time\n",
    "x=[]\n",
    "for i in range(10):\n",
    "    x.append(i)\n",
    "y = list(dataframe[\"corupted_text_length\"].values)\n",
    "y.sort()\n",
    "y = y[0:10]\n",
    "# fig, ax = plt.subplots()\n",
    "fig, ax = plt.subplots(figsize=(10,10))\n",
    "ax.bar(x,y,0.9)\n",
    "for i in range(len(y)):\n",
    "    plt.annotate(y[i], (-0.1 + i, y[i]))\n",
    "plt.title(\"bottom 10 lengths of corupted text\")\n",
    "plt.show()"
   ]
  },
  {
   "cell_type": "markdown",
   "id": "south-carpet",
   "metadata": {},
   "source": [
    "the minimum length  of the corupted text is 5"
   ]
  },
  {
   "cell_type": "markdown",
   "id": "closed-dairy",
   "metadata": {},
   "source": [
    "<h4> distribution  of corrupted text</h4>"
   ]
  },
  {
   "cell_type": "code",
   "execution_count": 28,
   "id": "extended-object",
   "metadata": {},
   "outputs": [
    {
     "data": {
      "text/plain": [
       "Text(0.5, 1.0, 'distribution  of corrupted text')"
      ]
     },
     "execution_count": 28,
     "metadata": {},
     "output_type": "execute_result"
    },
    {
     "data": {
      "image/png": "[encoded data removed]",
      "text/plain": [
       "<Figure size 720x720 with 1 Axes>"
      ]
     },
     "metadata": {
      "needs_background": "light"
     },
     "output_type": "display_data"
    }
   ],
   "source": [
    "f = plt.figure()\n",
    "f.set_figwidth(10)\n",
    "f.set_figheight(10)\n",
    "sns.distplot(dataframe[\"corupted_text_length\"].values)\n",
    "plt.title(\"distribution  of corrupted text\")"
   ]
  },
  {
   "cell_type": "markdown",
   "id": "vertical-choir",
   "metadata": {},
   "source": [
    "<h4> top 10 lengths of normal_text_length</h4>"
   ]
  },
  {
   "cell_type": "code",
   "execution_count": 67,
   "id": "hungry-threat",
   "metadata": {},
   "outputs": [
    {
     "data": {
      "image/png": "[encoded data removed]",
      "text/plain": [
       "<Figure size 720x720 with 1 Axes>"
      ]
     },
     "metadata": {
      "needs_background": "light"
     },
     "output_type": "display_data"
    },
    {
     "name": "stdout",
     "output_type": "stream",
     "text": [
      "Wall time: 323 ms\n"
     ]
    }
   ],
   "source": [
    "%%time\n",
    "x=[]\n",
    "for i in range(10):\n",
    "    x.append(i)\n",
    "y = list(dataframe[\"normal_text_length\"].values)\n",
    "y.sort(reverse=True)\n",
    "y = y[0:10]\n",
    "# fig, ax = plt.subplots()\n",
    "fig, ax = plt.subplots(figsize=(10,10))\n",
    "ax.bar(x,y,0.9)\n",
    "for i in range(len(y)):\n",
    "    plt.annotate(y[i], (-0.1 + i, y[i]))\n",
    "plt.title(\"top 10 lengths of stanard text\")\n",
    "plt.show()"
   ]
  },
  {
   "cell_type": "markdown",
   "id": "fluid-representative",
   "metadata": {},
   "source": [
    "the maximum length of the stanard text is 284  followed by 247 and  244"
   ]
  },
  {
   "cell_type": "markdown",
   "id": "secret-aurora",
   "metadata": {},
   "source": [
    "<h4> bottom 10 lengths of normal_text_length</h4>"
   ]
  },
  {
   "cell_type": "code",
   "execution_count": 68,
   "id": "american-abuse",
   "metadata": {},
   "outputs": [
    {
     "data": {
      "image/png": "[encoded data removed]",
      "text/plain": [
       "<Figure size 720x720 with 1 Axes>"
      ]
     },
     "metadata": {
      "needs_background": "light"
     },
     "output_type": "display_data"
    },
    {
     "name": "stdout",
     "output_type": "stream",
     "text": [
      "Wall time: 332 ms\n"
     ]
    }
   ],
   "source": [
    "%%time\n",
    "x=[]\n",
    "for i in range(10):\n",
    "    x.append(i)\n",
    "y = list(dataframe[\"normal_text_length\"].values)\n",
    "y.sort()\n",
    "y = y[0:10]\n",
    "# fig, ax = plt.subplots()\n",
    "fig, ax = plt.subplots(figsize=(10,10))\n",
    "ax.bar(x,y,0.9)\n",
    "for i in range(len(y)):\n",
    "    plt.annotate(y[i], (-0.1 + i, y[i]))\n",
    "plt.title(\"bottom 10 lengths of stanard text\")\n",
    "plt.show()"
   ]
  },
  {
   "cell_type": "markdown",
   "id": "threaded-stretch",
   "metadata": {},
   "source": [
    "the least length of stanard text is 6"
   ]
  },
  {
   "cell_type": "markdown",
   "id": "federal-skiing",
   "metadata": {},
   "source": [
    "<h4> distriution of length of normal text </h4>"
   ]
  },
  {
   "cell_type": "code",
   "execution_count": 59,
   "id": "parliamentary-version",
   "metadata": {},
   "outputs": [
    {
     "data": {
      "text/plain": [
       "Text(0.5, 1.0, 'distribution of length of normal text')"
      ]
     },
     "execution_count": 59,
     "metadata": {},
     "output_type": "execute_result"
    },
    {
     "data": {
      "image/png": "[encoded data removed]",
      "text/plain": [
       "<Figure size 720x720 with 1 Axes>"
      ]
     },
     "metadata": {
      "needs_background": "light"
     },
     "output_type": "display_data"
    }
   ],
   "source": [
    "f = plt.figure()\n",
    "f.set_figwidth(10)\n",
    "f.set_figheight(10)\n",
    "sns.distplot(dataframe[\"normal_text_length\"].values)\n",
    "plt.title(\"distribution of length of normal text\")"
   ]
  },
  {
   "cell_type": "markdown",
   "id": "freelance-forty",
   "metadata": {},
   "source": [
    "<h4> top 10 words of corrupted text </h4>"
   ]
  },
  {
   "cell_type": "code",
   "execution_count": 71,
   "id": "promotional-application",
   "metadata": {},
   "outputs": [
    {
     "name": "stdout",
     "output_type": "stream",
     "text": [
      "Wall time: 17 ms\n"
     ]
    }
   ],
   "source": [
    "%%time\n",
    "unique_corrupted_words = {}\n",
    "corrupted_words = list(dataframe[\"clean_corupted_text\"].values)\n",
    "for line in corrupted_words:\n",
    "    temp = line.split(\" \")\n",
    "    for key in temp:\n",
    "        if key != '':\n",
    "            \n",
    "            if key not in unique_corrupted_words:\n",
    "                unique_corrupted_words[key] = 1\n",
    "            else:\n",
    "                unique_corrupted_words[key] +=1\n"
   ]
  },
  {
   "cell_type": "code",
   "execution_count": 72,
   "id": "interesting-fashion",
   "metadata": {},
   "outputs": [],
   "source": [
    "x = {k: v for k, v in sorted(unique_corrupted_words.items(), key=lambda item: item[1],reverse=True)}"
   ]
  },
  {
   "cell_type": "code",
   "execution_count": 73,
   "id": "imported-metropolitan",
   "metadata": {},
   "outputs": [
    {
     "data": {
      "image/png": "[encoded data removed]",
      "text/plain": [
       "<Figure size 720x720 with 1 Axes>"
      ]
     },
     "metadata": {
      "needs_background": "light"
     },
     "output_type": "display_data"
    }
   ],
   "source": [
    "words = list(x.keys())\n",
    "freq = list(x.values())\n",
    "x = words[0:10]\n",
    "y = freq[0:10]\n",
    "fig, ax = plt.subplots(figsize=(10,10))\n",
    "ax.bar(x,y,0.9)\n",
    "for i in range(len(y)):\n",
    "    plt.annotate(y[i], (-0.1 + i, y[i]))\n",
    "plt.title(\"top 10 words of corrupted text\")\n",
    "plt.show()"
   ]
  },
  {
   "cell_type": "markdown",
   "id": "primary-capability",
   "metadata": {},
   "source": [
    "word u is the most occurance word in corrupted text which occurs 730 times followed by go which occurs 243 times"
   ]
  },
  {
   "cell_type": "markdown",
   "id": "friendly-conversation",
   "metadata": {},
   "source": [
    "<h4> top 10 words of normal text </h4>"
   ]
  },
  {
   "cell_type": "code",
   "execution_count": 74,
   "id": "opening-simon",
   "metadata": {},
   "outputs": [
    {
     "name": "stdout",
     "output_type": "stream",
     "text": [
      "Wall time: 12 ms\n"
     ]
    }
   ],
   "source": [
    "%%time\n",
    "unique_normal_words = {}\n",
    "normal_words = list(dataframe[\"clean_normal_text\"].values)\n",
    "for line in normal_words:\n",
    "    temp = line.split(\" \")\n",
    "    for key in temp:\n",
    "        if key != '':\n",
    "            \n",
    "            if key not in unique_normal_words:\n",
    "                unique_normal_words[key] = 1\n",
    "            else:\n",
    "                unique_normal_words[key] +=1\n"
   ]
  },
  {
   "cell_type": "code",
   "execution_count": 75,
   "id": "universal-antibody",
   "metadata": {},
   "outputs": [],
   "source": [
    "x = {k: v for k, v in sorted(unique_normal_words.items(), key=lambda item: item[1],reverse=True)}"
   ]
  },
  {
   "cell_type": "code",
   "execution_count": 76,
   "id": "direct-scope",
   "metadata": {},
   "outputs": [
    {
     "data": {
      "image/png": "[encoded data removed]",
      "text/plain": [
       "<Figure size 720x720 with 1 Axes>"
      ]
     },
     "metadata": {
      "needs_background": "light"
     },
     "output_type": "display_data"
    }
   ],
   "source": [
    "words = list(x.keys())\n",
    "freq = list(x.values())\n",
    "x = words[0:10]\n",
    "y = freq[0:10]\n",
    "fig, ax = plt.subplots(figsize=(10,10))\n",
    "ax.bar(x,y,0.9)\n",
    "for i in range(len(y)):\n",
    "    plt.annotate(y[i], (-0.1 + i, y[i]))\n",
    "plt.title(\"top 10 words of normal text\")\n",
    "plt.show()"
   ]
  },
  {
   "cell_type": "markdown",
   "id": "awful-conservation",
   "metadata": {},
   "source": [
    "word go appeared 233 times in the normal text which is the  highest one "
   ]
  },
  {
   "cell_type": "markdown",
   "id": "heard-credits",
   "metadata": {},
   "source": [
    "<h4> top 10 letters of corrupted text </h4>"
   ]
  },
  {
   "cell_type": "code",
   "execution_count": 88,
   "id": "southern-david",
   "metadata": {},
   "outputs": [
    {
     "name": "stdout",
     "output_type": "stream",
     "text": [
      "Wall time: 34.9 ms\n"
     ]
    }
   ],
   "source": [
    "%%time\n",
    "unique_corrupted_letters = {}\n",
    "corrupted_words = list(dataframe[\"clean_corupted_text\"].values)\n",
    "for line in corrupted_words:\n",
    "    temp = line.split(\" \")\n",
    "    for key in temp:\n",
    "        if key != '':\n",
    "            for letter in key:\n",
    "                if letter not in unique_corrupted_letters:\n",
    "                    unique_corrupted_letters[letter] = 1\n",
    "                else:\n",
    "                    unique_corrupted_letters[letter] +=1\n"
   ]
  },
  {
   "cell_type": "code",
   "execution_count": 89,
   "id": "casual-oliver",
   "metadata": {},
   "outputs": [],
   "source": [
    "x = {k: v for k, v in sorted(unique_corrupted_letters.items(), key=lambda item: item[1],reverse=True)}"
   ]
  },
  {
   "cell_type": "code",
   "execution_count": 90,
   "id": "rural-consciousness",
   "metadata": {},
   "outputs": [
    {
     "data": {
      "image/png": "[encoded data removed]",
      "text/plain": [
       "<Figure size 720x720 with 1 Axes>"
      ]
     },
     "metadata": {
      "needs_background": "light"
     },
     "output_type": "display_data"
    }
   ],
   "source": [
    "words = list(x.keys())\n",
    "freq = list(x.values())\n",
    "x = words[0:10]\n",
    "y = freq[0:10]\n",
    "fig, ax = plt.subplots(figsize=(10,10))\n",
    "ax.bar(x,y,0.9)\n",
    "for i in range(len(y)):\n",
    "    plt.annotate(y[i], (-0.1 + i, y[i]))\n",
    "plt.title(\"top 10 letters of corrupted text\")\n",
    "plt.show()"
   ]
  },
  {
   "cell_type": "markdown",
   "id": "quality-photographer",
   "metadata": {},
   "source": [
    "letter e appeares more times i.e 8045 times in the corrupted text"
   ]
  },
  {
   "cell_type": "markdown",
   "id": "associate-border",
   "metadata": {},
   "source": [
    "<h4> top 10 letters of normal text </h4>"
   ]
  },
  {
   "cell_type": "code",
   "execution_count": 80,
   "id": "superb-charleston",
   "metadata": {},
   "outputs": [
    {
     "name": "stdout",
     "output_type": "stream",
     "text": [
      "Wall time: 39 ms\n"
     ]
    }
   ],
   "source": [
    "%%time\n",
    "unique_normal_letters = {}\n",
    "normal_words = list(dataframe[\"clean_normal_text\"].values)\n",
    "for line in normal_words:\n",
    "    temp = line.split(\" \")\n",
    "    for key in temp:\n",
    "        if key != '':\n",
    "            for letter in key:\n",
    "                if letter not in unique_normal_letters:\n",
    "                    unique_normal_letters[letter] = 1\n",
    "                else:\n",
    "                    unique_normal_letters[letter] +=1\n"
   ]
  },
  {
   "cell_type": "code",
   "execution_count": 81,
   "id": "increased-nerve",
   "metadata": {},
   "outputs": [],
   "source": [
    "x = {k: v for k, v in sorted(unique_normal_letters.items(), key=lambda item: item[1],reverse=True)}"
   ]
  },
  {
   "cell_type": "code",
   "execution_count": 82,
   "id": "ethical-movement",
   "metadata": {},
   "outputs": [
    {
     "data": {
      "text/plain": [
       "<Figure size 7200x7200 with 0 Axes>"
      ]
     },
     "metadata": {},
     "output_type": "display_data"
    },
    {
     "data": {
      "image/png": "[encoded data removed]",
      "text/plain": [
       "<Figure size 720x720 with 1 Axes>"
      ]
     },
     "metadata": {
      "needs_background": "light"
     },
     "output_type": "display_data"
    }
   ],
   "source": [
    "words = list(x.keys())\n",
    "freq = list(x.values())\n",
    "x = words[0:10]\n",
    "y = freq[0:10]\n",
    "plt.figure(figsize=(100,100))\n",
    "fig, ax = plt.subplots(figsize=(10,10))\n",
    "ax.bar(x,y,0.9)\n",
    "for i in range(len(y)):\n",
    "    plt.annotate(y[i], (-0.1 + i, y[i]))\n",
    "plt.title(\"top 10 letters of normal text\")\n",
    "plt.show()"
   ]
  },
  {
   "cell_type": "markdown",
   "id": "renewable-stretch",
   "metadata": {},
   "source": [
    "letter e appeared most no times i.e 8612 times in the normal text"
   ]
  }
 ],
 "metadata": {
  "kernelspec": {
   "display_name": "Python 3",
   "language": "python",
   "name": "python3"
  },
  "language_info": {
   "codemirror_mode": {
    "name": "ipython",
    "version": 3
   },
   "file_extension": ".py",
   "mimetype": "text/x-python",
   "name": "python",
   "nbconvert_exporter": "python",
   "pygments_lexer": "ipython3",
   "version": "3.8.3"
  }
 },
 "nbformat": 4,
 "nbformat_minor": 5
}
