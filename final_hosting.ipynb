{
 "cells": [
  {
   "cell_type": "code",
   "execution_count": 1,
   "id": "usual-capital",
   "metadata": {},
   "outputs": [],
   "source": [
    "import flask\n",
    "import pandas\n",
    "from flask import Flask, jsonify, request,render_template,Response\n",
    "from werkzeug.wrappers import Request, Response\n",
    "import tensorflow as tf\n",
    "import pickle"
   ]
  },
  {
   "cell_type": "code",
   "execution_count": 2,
   "id": "unexpected-carnival",
   "metadata": {},
   "outputs": [],
   "source": [
    "app = Flask(__name__)\n"
   ]
  },
  {
   "cell_type": "code",
   "execution_count": null,
   "id": "computational-scheduling",
   "metadata": {},
   "outputs": [],
   "source": [
    "%%time\n",
    "path = \"pickles\"\n",
    "model = tf.saved_model.load(path)"
   ]
  },
  {
   "cell_type": "code",
   "execution_count": null,
   "id": "controversial-semiconductor",
   "metadata": {},
   "outputs": [],
   "source": [
    "%%time\n",
    "# loading the dumped file\n",
    "filename = \"model_and_tokenizers/tokenizer_source.pkl\"\n",
    "with open(filename, 'rb') as file:\n",
    "  tokenizer_source = pickle.load(file)\n",
    "filename = \"model_and_tokenizers/tokenizer_target.pkl\"\n",
    "with open(filename, 'rb') as file:\n",
    "  tokenizer_target = pickle.load(file)"
   ]
  },
  {
   "cell_type": "code",
   "execution_count": null,
   "id": "combined-bathroom",
   "metadata": {},
   "outputs": [],
   "source": [
    "max_len=39\n",
    "max_len_dec=44"
   ]
  },
  {
   "cell_type": "code",
   "execution_count": null,
   "id": "downtown-platform",
   "metadata": {},
   "outputs": [],
   "source": [
    "def predict_(input_sentence):\n",
    "\n",
    "  input_sequence=tokenizer_source.texts_to_sequences([input_sentence])\n",
    "  inputs=pad_sequences(input_sequence, maxlen=max_len, padding='post')\n",
    "  inputs=tf.convert_to_tensor(inputs)\n",
    "  result=''\n",
    "  units=128\n",
    "  hidden=[tf.zeros((1,units))]\n",
    "  encoder_output,hidden_state,cell_state=model.encoder(inputs)\n",
    "  dec_hidden=hidden_state\n",
    "  dec_input=tf.expand_dims([tokenizer_target.word_index['<start>']],0)\n",
    "  for t in range(40):\n",
    "      predictions,dec_hidden,cell_state,attention_weights,context_vector=model.decoder.onestepdecoder((dec_input,encoder_output,dec_hidden,cell_state))\n",
    "\n",
    "      predicted_id=tf.argmax(predictions[0]).numpy()\n",
    "      result+=tokenizer_target.index_word[predicted_id]+' '\n",
    "      if tokenizer_target.word_index['<end>']==predicted_id:\n",
    "          return result\n",
    "      dec_input= tf.expand_dims([predicted_id],0)\n",
    "  return result"
   ]
  },
  {
   "cell_type": "markdown",
   "id": "greenhouse-netscape",
   "metadata": {},
   "source": [
    "reference\n",
    "<h4># https://youtu.be/UbCWoMf80PY</h4>"
   ]
  },
  {
   "cell_type": "code",
   "execution_count": null,
   "id": "hindu-camera",
   "metadata": {},
   "outputs": [],
   "source": [
    "@app.route('/')\n",
    "def index():\n",
    "    return render_template('index.html')"
   ]
  },
  {
   "cell_type": "code",
   "execution_count": null,
   "id": "analyzed-radius",
   "metadata": {},
   "outputs": [],
   "source": [
    "@app.route('/predict', methods=['POST'])\n",
    "def predict():\n",
    "    print(\"request\",request.form.values())\n",
    "    to_predict_list = [x for x in request.form.values()]\n",
    "    sentence = to_predict_list[0]\n",
    "    output = predict_(sentence)\n",
    "    return render_template('index.html', prediction_text='predicted output is  {}'.format(output))"
   ]
  },
  {
   "cell_type": "code",
   "execution_count": null,
   "id": "polar-treatment",
   "metadata": {},
   "outputs": [],
   "source": [
    "# https://stackoverflow.com/questions/31252791/flask-importerror-no-module-named-flask\n",
    "# this cell should always be in running\n",
    "if __name__ == '__main__':\n",
    "    from werkzeug.serving import run_simple\n",
    "    run_simple('localhost', 9000, app)"
   ]
  }
 ],
 "metadata": {
  "kernelspec": {
   "display_name": "Python 3",
   "language": "python",
   "name": "python3"
  },
  "language_info": {
   "codemirror_mode": {
    "name": "ipython",
    "version": 3
   },
   "file_extension": ".py",
   "mimetype": "text/x-python",
   "name": "python",
   "nbconvert_exporter": "python",
   "pygments_lexer": "ipython3",
   "version": "3.8.3"
  }
 },
 "nbformat": 4,
 "nbformat_minor": 5
}
