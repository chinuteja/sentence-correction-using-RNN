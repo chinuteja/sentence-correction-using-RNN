{
 "cells": [
  {
   "cell_type": "code",
   "execution_count": 1,
   "id": "controlling-position",
   "metadata": {},
   "outputs": [],
   "source": [
    "import pandas as pd\n",
    "import string"
   ]
  },
  {
   "cell_type": "code",
   "execution_count": 2,
   "id": "north-priority",
   "metadata": {},
   "outputs": [
    {
     "data": {
      "text/html": [
       "<div>\n",
       "<style scoped>\n",
       "    .dataframe tbody tr th:only-of-type {\n",
       "        vertical-align: middle;\n",
       "    }\n",
       "\n",
       "    .dataframe tbody tr th {\n",
       "        vertical-align: top;\n",
       "    }\n",
       "\n",
       "    .dataframe thead th {\n",
       "        text-align: right;\n",
       "    }\n",
       "</style>\n",
       "<table border=\"1\" class=\"dataframe\">\n",
       "  <thead>\n",
       "    <tr style=\"text-align: right;\">\n",
       "      <th></th>\n",
       "      <th>Unnamed: 0</th>\n",
       "      <th>corupted_text</th>\n",
       "      <th>normal_text</th>\n",
       "    </tr>\n",
       "  </thead>\n",
       "  <tbody>\n",
       "    <tr>\n",
       "      <th>0</th>\n",
       "      <td>0</td>\n",
       "      <td>U wan me to \"chop\" seat 4 u nt?</td>\n",
       "      <td>Do you want me to reserve seat for you or not?</td>\n",
       "    </tr>\n",
       "    <tr>\n",
       "      <th>1</th>\n",
       "      <td>1</td>\n",
       "      <td>Yup. U reaching. We order some durian pastry a...</td>\n",
       "      <td>Yeap. You reaching? We ordered some Durian pas...</td>\n",
       "    </tr>\n",
       "    <tr>\n",
       "      <th>2</th>\n",
       "      <td>2</td>\n",
       "      <td>They become more ex oredi... Mine is like 25.....</td>\n",
       "      <td>They become more expensive already. Mine is li...</td>\n",
       "    </tr>\n",
       "    <tr>\n",
       "      <th>3</th>\n",
       "      <td>3</td>\n",
       "      <td>I'm thai. what do u do?</td>\n",
       "      <td>I'm Thai. What do you do?</td>\n",
       "    </tr>\n",
       "    <tr>\n",
       "      <th>4</th>\n",
       "      <td>4</td>\n",
       "      <td>Hi! How did your week go? Haven heard from you...</td>\n",
       "      <td>Hi! How did your week go? Haven't heard from y...</td>\n",
       "    </tr>\n",
       "  </tbody>\n",
       "</table>\n",
       "</div>"
      ],
      "text/plain": [
       "   Unnamed: 0                                      corupted_text  \\\n",
       "0           0                    U wan me to \"chop\" seat 4 u nt?   \n",
       "1           1  Yup. U reaching. We order some durian pastry a...   \n",
       "2           2  They become more ex oredi... Mine is like 25.....   \n",
       "3           3                            I'm thai. what do u do?   \n",
       "4           4  Hi! How did your week go? Haven heard from you...   \n",
       "\n",
       "                                         normal_text  \n",
       "0     Do you want me to reserve seat for you or not?  \n",
       "1  Yeap. You reaching? We ordered some Durian pas...  \n",
       "2  They become more expensive already. Mine is li...  \n",
       "3                          I'm Thai. What do you do?  \n",
       "4  Hi! How did your week go? Haven't heard from y...  "
      ]
     },
     "execution_count": 2,
     "metadata": {},
     "output_type": "execute_result"
    }
   ],
   "source": [
    "data = pd.read_csv(\"extracted_data.csv\")\n",
    "data.head()"
   ]
  },
  {
   "cell_type": "code",
   "execution_count": 3,
   "id": "generous-faculty",
   "metadata": {},
   "outputs": [
    {
     "data": {
      "text/plain": [
       "Index(['Unnamed: 0', 'corupted_text', 'normal_text'], dtype='object')"
      ]
     },
     "execution_count": 3,
     "metadata": {},
     "output_type": "execute_result"
    }
   ],
   "source": [
    "data.columns"
   ]
  },
  {
   "cell_type": "code",
   "execution_count": 4,
   "id": "greenhouse-mouse",
   "metadata": {},
   "outputs": [],
   "source": [
    "data.drop(['Unnamed: 0'],axis=1,inplace=True)"
   ]
  },
  {
   "cell_type": "code",
   "execution_count": 5,
   "id": "changed-patrol",
   "metadata": {},
   "outputs": [],
   "source": [
    "data = data.copy()"
   ]
  },
  {
   "cell_type": "code",
   "execution_count": 6,
   "id": "recreational-diving",
   "metadata": {},
   "outputs": [],
   "source": [
    "data['Source_len'] = data['corupted_text'].apply(len)\n",
    "data = data[data['Source_len'] < 170] # Removing the sentences with length more than 162\n",
    "\n",
    "data['Target_len'] = data['normal_text'].apply(len)\n",
    "data = data[data['Target_len'] < 201]"
   ]
  },
  {
   "cell_type": "code",
   "execution_count": 7,
   "id": "experienced-raleigh",
   "metadata": {},
   "outputs": [
    {
     "data": {
      "text/plain": [
       "(1993, 4)"
      ]
     },
     "execution_count": 7,
     "metadata": {},
     "output_type": "execute_result"
    }
   ],
   "source": [
    "data.shape"
   ]
  },
  {
   "cell_type": "code",
   "execution_count": 8,
   "id": "greatest-reporter",
   "metadata": {},
   "outputs": [
    {
     "name": "stdout",
     "output_type": "stream",
     "text": [
      "['0', '1', '2', '3', '4', '5', '6', '7', '8', '9', 'a', 'b', 'c', 'd', 'e', 'f', 'g', 'h', 'i', 'j', 'k', 'l', 'm', 'n', 'o', 'p', 'q', 'r', 's', 't', 'u', 'v', 'w', 'x', 'y', 'z', 'A', 'B', 'C', 'D', 'E', 'F', 'G', 'H', 'I', 'J', 'K', 'L', 'M', 'N', 'O', 'P', 'Q', 'R', 'S', 'T', 'U', 'V', 'W', 'X', 'Y', 'Z', '!', '\"', '#', '$', '%', '&', \"'\", '(', ')', '*', '+', ',', '-', '.', '/', ':', ';', '<', '=', '>', '?', '@', '[', '\\\\', ']', '^', '_', '`', '{', '|', '}', '~', ' ', '\\t', '\\n', '\\r', '\\x0b', '\\x0c']\n"
     ]
    }
   ],
   "source": [
    "#https://www.geeksforgeeks.org/python-string-printable/\n",
    "printable_chars=[]\n",
    "for i in string.printable: # Gives the printable characters\n",
    "    printable_chars.append(i)\n",
    "print(printable_chars)"
   ]
  },
  {
   "cell_type": "code",
   "execution_count": 9,
   "id": "running-disability",
   "metadata": {},
   "outputs": [
    {
     "name": "stdout",
     "output_type": "stream",
     "text": [
      "{'è', 'ñ', 'é', 'ä', 'ì', 'Ü', 'ù', '£', 'ö', 'Ñ', 'ò', 'å', 'É', 'à', 'ü', 'ø'}\n"
     ]
    }
   ],
   "source": [
    "non_printable=set()\n",
    "for line in data[\"corupted_text\"]:\n",
    "    for char in line:\n",
    "        if char not in printable_chars:\n",
    "            non_printable.add(char) # set adds only unique characters. so we obtain each nonprintable character only once. \n",
    "print(non_printable)"
   ]
  },
  {
   "cell_type": "code",
   "execution_count": 10,
   "id": "religious-turtle",
   "metadata": {},
   "outputs": [],
   "source": [
    "values=['e','E','u','a','i','a','n','E','N','o','e','u','o','U','a','o']\n",
    "dictt = dict(zip(non_printable,values))\n"
   ]
  },
  {
   "cell_type": "code",
   "execution_count": 11,
   "id": "compound-billion",
   "metadata": {},
   "outputs": [
    {
     "name": "stdout",
     "output_type": "stream",
     "text": [
      "{'è': 'e', 'ñ': 'E', 'é': 'u', 'ä': 'a', 'ì': 'i', 'Ü': 'a', 'ù': 'n', '£': 'E', 'ö': 'N', 'Ñ': 'o', 'ò': 'e', 'å': 'u', 'É': 'o', 'à': 'U', 'ü': 'a', 'ø': 'o'}\n"
     ]
    }
   ],
   "source": [
    "print(dictt)"
   ]
  },
  {
   "cell_type": "code",
   "execution_count": 12,
   "id": "pointed-insulation",
   "metadata": {},
   "outputs": [],
   "source": [
    "for key,value in dictt.items():\n",
    "    data=data.replace(key,value, regex=True)"
   ]
  },
  {
   "cell_type": "code",
   "execution_count": 13,
   "id": "broken-blond",
   "metadata": {},
   "outputs": [],
   "source": [
    "data_wl=data.copy()"
   ]
  },
  {
   "cell_type": "code",
   "execution_count": 14,
   "id": "afraid-seafood",
   "metadata": {},
   "outputs": [],
   "source": [
    "data.to_csv(\"normalized_data.csv\")"
   ]
  },
  {
   "cell_type": "code",
   "execution_count": 15,
   "id": "declared-terrorist",
   "metadata": {},
   "outputs": [],
   "source": [
    "data_wl['normal_text_input'] = '<start> ' + data['normal_text'].astype(str) # Adding the start word at the beginning of each sentence\n",
    "data_wl['normal_text_output'] = data['normal_text'].astype(str) + ' <end>' # Adding end word at the end of each sentence\n",
    "data_wl = data_wl.drop(['normal_text','Source_len','Target_len'], axis=1)"
   ]
  },
  {
   "cell_type": "code",
   "execution_count": 16,
   "id": "technical-brake",
   "metadata": {},
   "outputs": [],
   "source": [
    "data_wl.to_csv(\"final_data.csv\")"
   ]
  }
 ],
 "metadata": {
  "kernelspec": {
   "display_name": "Python 3",
   "language": "python",
   "name": "python3"
  },
  "language_info": {
   "codemirror_mode": {
    "name": "ipython",
    "version": 3
   },
   "file_extension": ".py",
   "mimetype": "text/x-python",
   "name": "python",
   "nbconvert_exporter": "python",
   "pygments_lexer": "ipython3",
   "version": "3.8.3"
  }
 },
 "nbformat": 4,
 "nbformat_minor": 5
}
